{
 "cells": [
  {
   "cell_type": "code",
   "execution_count": null,
   "metadata": {},
   "outputs": [],
   "source": [
    "# Set this to wherever you have your LV rxn data stored\n",
    "home = %env HOME\n",
    "lv_rxn_data = \"{}/lv/lv_files/mcell/output_data/react_data/\".format(home)\n",
    "lv_rxn_data"
   ]
  },
  {
   "cell_type": "code",
   "execution_count": null,
   "metadata": {},
   "outputs": [],
   "source": [
    "import glob\n",
    "import pandas as pd\n",
    "import ipywidgets as widgets\n",
    "import cufflinks as cf\n",
    "import plotly\n",
    "import plotly.offline as py\n",
    "import plotly.graph_objs as go\n",
    "\n",
    "# Set offline to true or you'll have to create a plotly account\n",
    "cf.set_config_file(offline=True, world_readable=False, theme='pearl')\n",
    "py.init_notebook_mode() # graphs charts inline"
   ]
  },
  {
   "cell_type": "code",
   "execution_count": null,
   "metadata": {},
   "outputs": [],
   "source": [
    "# Create a list of dataframes, one for every \"prey\" reaction data output file\n",
    "# e.g., ./seed_0001/prey.World.dat, ./seed_0002/prey.World.dat, etc\n",
    "\n",
    "prey_fnames = list(glob.iglob(\"{}/**/prey.World.dat\".format(lv_rxn_data)))\n",
    "prey_fnames.sort()\n",
    "\n",
    "df_list = []\n",
    "for fname in prey_fnames:\n",
    "    seed = int(fname.split('/')[-2][5:])\n",
    "    df = pd.read_csv(fname, names=['time', \"s{}\".format(seed)], delim_whitespace=True)\n",
    "    df = df.set_index('time')\n",
    "    df_list.append(df)"
   ]
  },
  {
   "cell_type": "code",
   "execution_count": null,
   "metadata": {},
   "outputs": [],
   "source": [
    "# Turn all the dataframes into a single dataframe\n",
    "df_all_prey = pd.concat(df_list, axis=1)\n",
    "df_all_prey.head()"
   ]
  },
  {
   "cell_type": "code",
   "execution_count": null,
   "metadata": {},
   "outputs": [],
   "source": [
    "# To make loc indexing work better, we'll remove the time column\n",
    "# We can save the time column to a series in case we want it later\n",
    "df_all_prey = df_all_prey.reset_index()\n",
    "series_time = df_all_prey.pop('time')"
   ]
  },
  {
   "cell_type": "code",
   "execution_count": null,
   "metadata": {},
   "outputs": [],
   "source": [
    "# Just an example of loc slicing\n",
    "df_all_prey.loc[450:500:10][['s1', 's2']]"
   ]
  },
  {
   "cell_type": "code",
   "execution_count": null,
   "metadata": {},
   "outputs": [],
   "source": [
    "# The same example with iloc slicing\n",
    "df_all_prey.iloc[450:501:10, :2]"
   ]
  },
  {
   "cell_type": "code",
   "execution_count": null,
   "metadata": {},
   "outputs": [],
   "source": [
    "df_all_prey.iplot(\n",
    "    xTitle=\"Time (s)\",\n",
    "    yTitle=\"Counts\",\n",
    "    title=\"MCell Simulation of Lotka-Volterra System\")"
   ]
  },
  {
   "cell_type": "code",
   "execution_count": null,
   "metadata": {},
   "outputs": [],
   "source": [
    "# Standard deviation for all prey\n",
    "std_all_prey = df_all_prey.std(axis=1)"
   ]
  },
  {
   "cell_type": "code",
   "execution_count": null,
   "metadata": {},
   "outputs": [],
   "source": [
    "# Simple plot of mean\n",
    "prey_avg = df_all_prey.mean(axis=1)\n",
    "prey_avg.iplot(\n",
    "    xTitle=\"Time (μs)\",\n",
    "    yTitle=\"Counts\",\n",
    "    title=\"Average of Lotka-Volterra MCell Sim.\")"
   ]
  },
  {
   "cell_type": "code",
   "execution_count": null,
   "metadata": {},
   "outputs": [],
   "source": [
    "# There are many ways to customize your plot\n",
    "\n",
    "data = [go.Scatter(\n",
    "    x=df_all_prey.index,\n",
    "    y=prey_avg,\n",
    "    name='Prey Average',\n",
    "    line = dict(\n",
    "        color = ('rgb(205, 12, 24)'),\n",
    "        width = 2,\n",
    "        dash = 'dash'),\n",
    "    hoverinfo='name',\n",
    ")]\n",
    "\n",
    "layout=go.Layout(\n",
    "    title=\"Average of Lotka-Volterra MCell Sim.\",\n",
    "    paper_bgcolor='rgb(255,255,255)',\n",
    "    plot_bgcolor='rgb(229,229,229)',\n",
    "    xaxis=go.XAxis(\n",
    "        title='Time (μs)',\n",
    "        gridcolor='rgb(255,255,255)',\n",
    "        showgrid=True,\n",
    "        showline=False,\n",
    "        showticklabels=True,\n",
    "        tickcolor='rgb(127,127,127)',\n",
    "        ticks='outside',\n",
    "        zeroline=False\n",
    "    ),\n",
    "    yaxis=go.YAxis(\n",
    "        title='Molecule Counts',\n",
    "        gridcolor='rgb(255,255,255)',\n",
    "        showgrid=True,\n",
    "        showline=False,\n",
    "        showticklabels=True,\n",
    "        tickcolor='rgb(127,127,127)',\n",
    "        ticks='outside',\n",
    "        zeroline=False\n",
    "    ),\n",
    ")\n",
    "\n",
    "py.iplot(go.Figure(data=data, layout=layout))"
   ]
  }
 ],
 "metadata": {
  "kernelspec": {
   "display_name": "Python 3",
   "language": "python",
   "name": "python3"
  },
  "language_info": {
   "codemirror_mode": {
    "name": "ipython",
    "version": 3
   },
   "file_extension": ".py",
   "mimetype": "text/x-python",
   "name": "python",
   "nbconvert_exporter": "python",
   "pygments_lexer": "ipython3",
   "version": "3.6.4"
  }
 },
 "nbformat": 4,
 "nbformat_minor": 2
}
