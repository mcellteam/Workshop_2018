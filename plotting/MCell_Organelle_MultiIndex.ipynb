{
 "cells": [
  {
   "cell_type": "markdown",
   "metadata": {},
   "source": [
    "# MCell Organelle example\n",
    "\n",
    "Plotting with [Pandas](https://pandas.pydata.org/) and [Plotly](https://plot.ly/)\n"
   ]
  },
  {
   "cell_type": "code",
   "execution_count": null,
   "metadata": {},
   "outputs": [],
   "source": [
    "# Set this to wherever your organelle reaction data is stored\n",
    "home = %env HOME\n",
    "organelle_rxn_data = \"{}/organelle/organelle_files/mcell/output_data/react_data/\".format(home)\n",
    "organelle_rxn_data"
   ]
  },
  {
   "cell_type": "code",
   "execution_count": null,
   "metadata": {},
   "outputs": [],
   "source": [
    "import glob\n",
    "import pandas as pd\n",
    "import cufflinks as cf\n",
    "import plotly\n",
    "import plotly.offline as py\n",
    "import colorlover as cl\n",
    "import os\n",
    "\n",
    "# Set offline to True or you'll have to create a plotly account\n",
    "cf.set_config_file(offline=True, world_readable=False, theme='pearl')\n",
    "py.init_notebook_mode() # graphs charts inline "
   ]
  },
  {
   "cell_type": "code",
   "execution_count": null,
   "metadata": {},
   "outputs": [],
   "source": [
    "# Create a list of dataframes, one for every reaction data output file\n",
    "# e.g., ./seed_0001/a.World.dat\n",
    "\n",
    "rxndata_fnames = list(glob.iglob(\"{}/**/*.*.dat\".format(organelle_rxn_data)))\n",
    "rxndata_fnames.sort()\n",
    "\n",
    "df_list = []\n",
    "for fname in rxndata_fnames:\n",
    "    seed = int(fname.split('/')[-2][5:])\n",
    "    basename = os.path.basename(fname)\n",
    "    spec_loc_name, _ = os.path.splitext(basename)\n",
    "    spec_loc_name = spec_loc_name.replace('.','_')\n",
    "    df = pd.read_csv(fname, names=['time', \"s{}/{}\".format(seed, spec_loc_name)], delim_whitespace=True)\n",
    "    df = df.set_index('time')\n",
    "    df_list.append(df)"
   ]
  },
  {
   "cell_type": "code",
   "execution_count": null,
   "metadata": {},
   "outputs": [],
   "source": [
    "# Turn all the dataframes into a single dataframe\n",
    "df_rxndata = pd.concat(df_list, axis=1)"
   ]
  },
  {
   "cell_type": "code",
   "execution_count": null,
   "metadata": {},
   "outputs": [],
   "source": [
    "# To make loc indexing work better, we'll remove the time column\n",
    "# We can save the time column to a series in case we want it later\n",
    "df_rxndata = df_rxndata.reset_index()\n",
    "series_time = df_rxndata.pop('time')"
   ]
  },
  {
   "cell_type": "code",
   "execution_count": null,
   "metadata": {},
   "outputs": [],
   "source": [
    "# Setting our columns to be a MultiIndex. This let's us have hierarchical columns names.\n",
    "# For this example, we'll set the 'seed' to be the top level column name and the 'species'\n",
    "# be the second level column name\n",
    "df_rxndata.columns = pd.MultiIndex.from_tuples(\n",
    "    [tuple(c.split('/')) for c in df_rxndata.columns],\n",
    "    names=['seed', 'species'])\n",
    "df_rxndata.tail()"
   ]
  },
  {
   "cell_type": "markdown",
   "metadata": {},
   "source": [
    "Let's play with our dataframes a little bit.\n",
    "\n",
    "Here's a good [tutorial for Pandas](https://pandas.pydata.org/pandas-docs/stable/10min.html)"
   ]
  },
  {
   "cell_type": "code",
   "execution_count": null,
   "metadata": {},
   "outputs": [],
   "source": [
    "# Just an example of slicing with loc\n",
    "# This will give you a Series\n",
    "df_rxndata.loc[900:1000:10]['s1']['B_World']\n",
    "\n",
    "# More slicing. This gives us a subset of iterations for the 1st and 3rd seeds\n",
    "# for the \"a\" and \"b\" species as a dataframe\n",
    "df_rxndata.loc[10:20:2, (['s1', 's3'], ['A_World', 'B_World'])]\n",
    "\n",
    "# There are a couple of ways to grab all seeds for one species, which is useful\n",
    "# for taking the mean or standard deviation.\n",
    "# Here are two examples, one with loc and one with iloc:\n",
    "df_a = df_rxndata.loc[:,(slice(None), 'A_World')]\n",
    "#df_a = df_rxndata.iloc[:, df_rxndata.columns.get_level_values(1)=='a_World']\n",
    "\n",
    "# Take the mean of all the \"a\" seeds\n",
    "a_avg = df_a.mean(axis=1)\n",
    "a_std = df_a.std(axis=1)\n",
    "\n",
    "df_a.tail()"
   ]
  },
  {
   "cell_type": "code",
   "execution_count": null,
   "metadata": {},
   "outputs": [],
   "source": [
    "from IPython.display import HTML\n",
    "num_species = len(df_rxndata.columns.levels[1])\n",
    "HTML(cl.to_html( cl.scales[str(num_species)] ))"
   ]
  },
  {
   "cell_type": "code",
   "execution_count": null,
   "metadata": {},
   "outputs": [],
   "source": [
    "# Plot all our species, seeds 1 through 10\n",
    "#df_rxndata.iplot\n",
    "\n",
    "num_seeds = len(df_rxndata.columns.levels[0])\n",
    "num_species = len(df_rxndata.columns.levels[1])\n",
    "color_scale = cl.scales[str(num_species)]['div']['Spectral']\n",
    "column_colors = color_scale*num_seeds\n",
    "df_rxndata[:15000:10].iplot(\n",
    "    title=\"Organelle\",\n",
    "    xTitle=\"Time (μs)\",\n",
    "    yTitle=\"Molecule Counts\",\n",
    "    colors=column_colors,\n",
    "    showlegend=False)"
   ]
  },
  {
   "cell_type": "code",
   "execution_count": null,
   "metadata": {},
   "outputs": [],
   "source": [
    "# Create and plot a dataframe containing the average of every species\n",
    "avg_list = []\n",
    "for species in df_rxndata.columns.levels[1]:\n",
    "    avg_list.append(df_rxndata.loc[:,(slice(None), species)].mean(axis=1))\n",
    "df_avg = pd.concat(avg_list, axis=1)\n",
    "df_avg[:15000:10].iplot(colors=color_scale)"
   ]
  }
 ],
 "metadata": {
  "kernelspec": {
   "display_name": "Python 3",
   "language": "python",
   "name": "python3"
  },
  "language_info": {
   "codemirror_mode": {
    "name": "ipython",
    "version": 3
   },
   "file_extension": ".py",
   "mimetype": "text/x-python",
   "name": "python",
   "nbconvert_exporter": "python",
   "pygments_lexer": "ipython3",
   "version": "3.6.4"
  }
 },
 "nbformat": 4,
 "nbformat_minor": 2
}
