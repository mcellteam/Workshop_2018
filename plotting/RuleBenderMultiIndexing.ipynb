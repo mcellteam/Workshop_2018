{
 "cells": [
  {
   "cell_type": "code",
   "execution_count": null,
   "metadata": {},
   "outputs": [],
   "source": [
    "# Set this to your RuleBender workspace if the default isn't right\n",
    "home = %env HOME\n",
    "rb_workspace = \"{}/RuleBender-workspace/abc_ssa/results/abc_ssa/\".format(home)\n",
    "rb_workspace"
   ]
  },
  {
   "cell_type": "code",
   "execution_count": null,
   "metadata": {},
   "outputs": [],
   "source": [
    "import glob\n",
    "import pandas as pd\n",
    "import ipywidgets as widgets\n",
    "import cufflinks as cf\n",
    "import plotly.offline as py\n",
    "import plotly.graph_objs as go\n",
    "import os\n",
    "from pprint import pprint\n",
    "\n",
    "# Set offline to true or you'll have to create a plotly account\n",
    "cf.set_config_file(offline=True, world_readable=False, theme='pearl')\n",
    "py.init_notebook_mode() # graphs charts inline (IPython)."
   ]
  },
  {
   "cell_type": "code",
   "execution_count": null,
   "metadata": {},
   "outputs": [],
   "source": [
    "# Grab all the gdat files listed under the RB workspace\n",
    "\n",
    "glob_str = '{}/**/*.gdat'.format(rb_workspace)\n",
    "files_to_plot = [fname for fname in glob.iglob(glob_str, recursive=True)]\n",
    "files_to_plot.sort()"
   ]
  },
  {
   "cell_type": "code",
   "execution_count": null,
   "metadata": {},
   "outputs": [],
   "source": [
    "def gdat_to_df(fname):\n",
    "    f=open(fname, 'r')\n",
    "    line1=f.readline()\n",
    "    column_titles=line1.replace('#','').split()\n",
    "    basename = os.path.basename(fname)\n",
    "    basename_noext, _ = os.path.splitext(basename)\n",
    "    df=pd.read_csv(f, sep='\\s+', names=column_titles)\n",
    "    df = df.set_index('time')\n",
    "    column_titles = column_titles[1:]\n",
    "    return df, [(basename_noext, c) for c in column_titles]\n",
    "    #return df\n",
    "\n",
    "def plot_df(df, xlog=False, ylog=False):\n",
    "    data = [go.Scatter(y=df[title], name=title) for title in list(df)]\n",
    "\n",
    "    layout = go.Layout(\n",
    "        xaxis=dict(\n",
    "            type='log' if xlog else 'linear' ,\n",
    "            title='time (s)',\n",
    "        ),\n",
    "        yaxis=dict(\n",
    "            type='log' if ylog else 'linear',\n",
    "            title='counts',\n",
    "        )\n",
    "    )\n",
    "\n",
    "    fig = go.Figure(data=data, layout=layout)\n",
    "    py.iplot(fig)"
   ]
  },
  {
   "cell_type": "code",
   "execution_count": null,
   "metadata": {},
   "outputs": [],
   "source": [
    "# Create dataframe from single gdat file\n",
    "df, _ = gdat_to_df(files_to_plot[0])\n",
    "# A panda dataframe prints in tabular format in a Jupyter notebook\n",
    "df.head()"
   ]
  },
  {
   "cell_type": "code",
   "execution_count": null,
   "metadata": {},
   "outputs": [],
   "source": [
    "# default matplotlib plot of panda's dataframe\n",
    "df.plot()"
   ]
  },
  {
   "cell_type": "code",
   "execution_count": null,
   "metadata": {},
   "outputs": [],
   "source": [
    "# Create large dataframe from multiple gdat files\n",
    "# Set up multiindex column to organize output\n",
    "# Top level is file name, which highlights the parameter in question\n",
    "# Bottom level species names (A, B, C, etc)\n",
    "\n",
    "files_to_plot.sort()\n",
    "df_list = []\n",
    "column_multi_list = []\n",
    "for fname in files_to_plot:\n",
    "    df, column_multi = gdat_to_df(fname)\n",
    "    column_multi_list.extend(column_multi)\n",
    "    df_list.append(df)\n",
    "big_df = pd.concat(df_list, axis=1)\n",
    "big_df.columns = pd.MultiIndex.from_tuples(\n",
    "    column_multi_list,\n",
    "    names=['file', 'species'])\n",
    "big_df.tail()"
   ]
  },
  {
   "cell_type": "code",
   "execution_count": null,
   "metadata": {},
   "outputs": [],
   "source": [
    "# There are many ways to slice and manipulate a Panda's dataframe.\n",
    "# See here for more info: https://pandas.pydata.org/pandas-docs/stable/10min.html\n",
    "\n",
    "all_b = big_df.loc[:, (slice(None), 'B')]"
   ]
  },
  {
   "cell_type": "code",
   "execution_count": null,
   "metadata": {},
   "outputs": [],
   "source": [
    "# basic Scatter plotly plot\n",
    "# data = [go.Scatter(y=df[title], name=title) for title in list(df)]\n",
    "# py.iplot(data)\n",
    "all_b.iplot()"
   ]
  }
 ],
 "metadata": {
  "kernelspec": {
   "display_name": "Python 3",
   "language": "python",
   "name": "python3"
  },
  "language_info": {
   "codemirror_mode": {
    "name": "ipython",
    "version": 3
   },
   "file_extension": ".py",
   "mimetype": "text/x-python",
   "name": "python",
   "nbconvert_exporter": "python",
   "pygments_lexer": "ipython3",
   "version": "3.6.4"
  }
 },
 "nbformat": 4,
 "nbformat_minor": 2
}
